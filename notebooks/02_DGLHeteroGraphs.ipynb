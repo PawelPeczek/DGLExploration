{
 "cells": [
  {
   "cell_type": "code",
   "execution_count": 1,
   "metadata": {},
   "outputs": [],
   "source": [
    "import pygraphviz as pgv\n",
    "import dgl\n",
    "from IPython.display import Image\n",
    "import networkx as nx"
   ]
  },
  {
   "cell_type": "markdown",
   "metadata": {},
   "source": [
    "# DGLHeteroGraph\n",
    "Let's explore some features connected with Heteregenous graphs which we can use within DGL Library.\n",
    "\n",
    "A **Heterogeneous graph** is defined as a graph with node types and edge types.\n",
    "\n",
    "If two edges share the same edge type, then their source nodes, as well as their destination nodes, also have the same type (the source node types don’t have to be the same as the destination node types).\n",
    "\n",
    "More about Heterographs, you can find in this paper:\n",
    "https://arxiv.org/pdf/1511.04854.pdf\n",
    "\n",
    "References:\n",
    "- https://docs.dgl.ai/api/python/heterograph.html\n",
    "- https://docs.dgl.ai/tutorials/basics/5_hetero.html"
   ]
  },
  {
   "cell_type": "code",
   "execution_count": 2,
   "metadata": {},
   "outputs": [],
   "source": [
    "def plot_heterograph(nxg, filepath):\n",
    "    ag = pgv.AGraph(strict=False, directed=True)\n",
    "    for u, v, k in nxg.edges(keys=True):\n",
    "        ag.add_edge(u, v, label=k)\n",
    "    \n",
    "    ag.layout('dot')\n",
    "    ag.draw(filepath)"
   ]
  },
  {
   "cell_type": "markdown",
   "metadata": {},
   "source": [
    "### Hetergenous example\n",
    "Interesting example of heterograph could be computer games relation graph. Players follow other players and of course play the games. Developers develop computer games and also there are some cooperations beetwen different studios.\n",
    "\n",
    "#### Players\n",
    "\n",
    "| Player | ID |\n",
    "|--------|----|\n",
    "| Alice  | 0  |\n",
    "| Bob    | 1  |\n",
    "| Chuck  | 2  |\n",
    "| Dennis | 3  |\n",
    "\n",
    "Relations:\n",
    "- Alice -\\[follows\\]-> Bob\n",
    "- Bob -\\[follows\\]-> Chuck\n",
    "- Dennis -\\[follows\\]-> Chuck\n",
    "\n",
    "Games:\n",
    "\n",
    "| Game  | ID |\n",
    "|-------|----|\n",
    "| FIFA  | 0  |\n",
    "| BF    | 1  |\n",
    "| AC    | 2  |\n",
    "\n",
    "Relations:\n",
    "\n",
    "- Alice -\\[plays\\]-> FIFA\n",
    "- Bob -\\[plays\\]-> FIFA\n",
    "- Bob -\\[plays\\]-> BF\n",
    "- Chuck -\\[plays\\]-> BF\n",
    "- Chuck -\\[plays\\]-> AC\n",
    "- Dennis -\\[plays\\]-> AC\n",
    "\n",
    "Developers:\n",
    "\n",
    "| Developer | ID |\n",
    "|-------|----|\n",
    "| EA | 0  |\n",
    "| Ubisoft | 1  |\n",
    "\n",
    "Relations:\n",
    "\n",
    "- EA -\\[develops\\]-> FIFA\n",
    "- EA -\\[develops\\]-> BF\n",
    "- Ubisoft -\\[develops\\]-> AC"
   ]
  },
  {
   "cell_type": "code",
   "execution_count": 3,
   "metadata": {},
   "outputs": [],
   "source": [
    "follow_edges = [(0, 1), (1, 2), (3, 2)]\n",
    "play_edges = [(0,0), (1,0), (1,1), (2,1), (2,2), (3,2)]\n",
    "develop_edges = [(0,0), (0,1), (1,2)]\n",
    "\n",
    "player_follows = dgl.graph(follow_edges, 'player', 'follows')\n",
    "player_plays = dgl.bipartite(play_edges, 'player', 'plays', 'game')\n",
    "company_develops = dgl.bipartite(develop_edges, 'company', 'develops', 'game')\n",
    "\n",
    "g = dgl.hetero_from_relations([player_follows, player_plays, company_develops])"
   ]
  },
  {
   "cell_type": "markdown",
   "metadata": {},
   "source": [
    "Alternatively:"
   ]
  },
  {
   "cell_type": "code",
   "execution_count": 4,
   "metadata": {},
   "outputs": [],
   "source": [
    " g = dgl.heterograph({\n",
    "     ('player', 'follows', 'player'): follow_edges,\n",
    "     ('player', 'plays', 'game'): play_edges,\n",
    "     ('company', 'develops', 'game'): develop_edges,\n",
    "     })"
   ]
  },
  {
   "cell_type": "markdown",
   "metadata": {},
   "source": [
    "Now, we can visualize provided heterograph:"
   ]
  },
  {
   "cell_type": "code",
   "execution_count": 5,
   "metadata": {},
   "outputs": [],
   "source": [
    "plot_heterograph(g.metagraph, 'img/gamedev_graph.png')"
   ]
  },
  {
   "cell_type": "code",
   "execution_count": 6,
   "metadata": {},
   "outputs": [
    {
     "output_type": "execute_result",
     "data": {
      "text/html": "<img src=\"img/gamedev_graph.png\"/>",
      "text/plain": "<IPython.core.display.Image object>"
     },
     "metadata": {},
     "execution_count": 6
    }
   ],
   "source": [
    "Image(url='img/gamedev_graph.png')"
   ]
  },
  {
   "cell_type": "code",
   "execution_count": 7,
   "metadata": {},
   "outputs": [],
   "source": [
    "ag1 = pgv.AGraph(strict=False, directed=True)\n",
    "for fe in follow_edges:\n",
    "    \n",
    "    ag1.add_edge('p'+str(fe[0]), 'p'+str(fe[1]), label='follows')\n",
    "\n",
    "for pe in play_edges:\n",
    "    ag1.add_edge('p'+str(pe[0]), 'g'+str(pe[1]), label='plays')\n",
    "\n",
    "for de in develop_edges:\n",
    "    ag1.add_edge('c'+str(de[0]), 'g'+str(de[1]), label='develops')\n",
    "\n",
    "ag1.layout('dot')\n",
    "ag1.draw('img/gamedev_heterograph.png')"
   ]
  },
  {
   "cell_type": "code",
   "execution_count": 8,
   "metadata": {},
   "outputs": [
    {
     "output_type": "execute_result",
     "data": {
      "text/html": "<img src=\"img/gamedev_heterograph.png\"/>",
      "text/plain": "<IPython.core.display.Image object>"
     },
     "metadata": {},
     "execution_count": 8
    }
   ],
   "source": [
    "Image(url='img/gamedev_heterograph.png')"
   ]
  },
  {
   "cell_type": "code",
   "execution_count": 9,
   "metadata": {},
   "outputs": [
    {
     "output_type": "execute_result",
     "data": {
      "text/plain": "4"
     },
     "metadata": {},
     "execution_count": 9
    }
   ],
   "source": [
    "g.number_of_nodes('player')"
   ]
  },
  {
   "cell_type": "code",
   "execution_count": 10,
   "metadata": {},
   "outputs": [
    {
     "output_type": "execute_result",
     "data": {
      "text/plain": "6"
     },
     "metadata": {},
     "execution_count": 10
    }
   ],
   "source": [
    "g.number_of_edges('plays')"
   ]
  },
  {
   "cell_type": "code",
   "execution_count": 11,
   "metadata": {},
   "outputs": [
    {
     "output_type": "execute_result",
     "data": {
      "text/plain": "tensor([2, 1])"
     },
     "metadata": {},
     "execution_count": 11
    }
   ],
   "source": [
    "g.out_degrees(etype='develops')"
   ]
  },
  {
   "cell_type": "code",
   "execution_count": 12,
   "metadata": {},
   "outputs": [
    {
     "output_type": "execute_result",
     "data": {
      "text/plain": "(tensor([0]), tensor([0]))"
     },
     "metadata": {},
     "execution_count": 12
    }
   ],
   "source": [
    "g.in_edges(0, etype='develops')"
   ]
  },
  {
   "cell_type": "markdown",
   "metadata": {},
   "source": [
    "### Different conversions"
   ]
  },
  {
   "cell_type": "code",
   "execution_count": 13,
   "metadata": {},
   "outputs": [
    {
     "output_type": "display_data",
     "data": {
      "text/plain": "<Figure size 432x288 with 1 Axes>",
      "image/svg+xml": "<?xml version=\"1.0\" encoding=\"utf-8\" standalone=\"no\"?>\r\n<!DOCTYPE svg PUBLIC \"-//W3C//DTD SVG 1.1//EN\"\r\n  \"http://www.w3.org/Graphics/SVG/1.1/DTD/svg11.dtd\">\r\n<!-- Created with matplotlib (https://matplotlib.org/) -->\r\n<svg height=\"302.4pt\" version=\"1.1\" viewBox=\"0 0 446.4 302.4\" width=\"446.4pt\" xmlns=\"http://www.w3.org/2000/svg\" xmlns:xlink=\"http://www.w3.org/1999/xlink\">\r\n <defs>\r\n  <style type=\"text/css\">\r\n*{stroke-linecap:butt;stroke-linejoin:round;}\r\n  </style>\r\n </defs>\r\n <g id=\"figure_1\">\r\n  <g id=\"patch_1\">\r\n   <path d=\"M 0 302.4 \r\nL 446.4 302.4 \r\nL 446.4 0 \r\nL 0 0 \r\nz\r\n\" style=\"fill:#ffffff;\"/>\r\n  </g>\r\n  <g id=\"axes_1\">\r\n   <g id=\"patch_2\">\r\n    <path clip-path=\"url(#pcfcf957dbc)\" d=\"M 225.761098 99.460711 \r\nQ 309.737732 134.346948 392.681881 168.804262 \r\n\" style=\"fill:none;stroke:#000000;stroke-linecap:round;\"/>\r\n    <path clip-path=\"url(#pcfcf957dbc)\" d=\"M 389.755232 165.422735 \r\nL 392.681881 168.804262 \r\nL 388.22067 169.116665 \r\nL 389.755232 165.422735 \r\nz\r\n\" style=\"stroke:#000000;stroke-linecap:round;\"/>\r\n   </g>\r\n   <g id=\"patch_3\">\r\n    <path clip-path=\"url(#pcfcf957dbc)\" d=\"M 225.761098 99.460711 \r\nQ 139.284524 67.334582 53.855998 35.597803 \r\n\" style=\"fill:none;stroke:#000000;stroke-linecap:round;\"/>\r\n    <path clip-path=\"url(#pcfcf957dbc)\" d=\"M 56.909118 38.865594 \r\nL 53.855998 35.597803 \r\nL 58.302103 35.115981 \r\nL 56.909118 38.865594 \r\nz\r\n\" style=\"stroke:#000000;stroke-linecap:round;\"/>\r\n   </g>\r\n   <g id=\"patch_4\">\r\n    <path clip-path=\"url(#pcfcf957dbc)\" d=\"M 304.753846 270.208264 \r\nQ 321.583345 267.344192 337.310658 264.667692 \r\n\" style=\"fill:none;stroke:#000000;stroke-linecap:round;\"/>\r\n    <path clip-path=\"url(#pcfcf957dbc)\" d=\"M 333.031813 263.367118 \r\nL 337.310658 264.667692 \r\nL 333.702892 267.310423 \r\nL 333.031813 263.367118 \r\nz\r\n\" style=\"stroke:#000000;stroke-linecap:round;\"/>\r\n   </g>\r\n   <g id=\"patch_5\">\r\n    <path clip-path=\"url(#pcfcf957dbc)\" d=\"M 310.946073 139.792501 \r\nQ 267.585993 125.905798 225.290675 112.360101 \r\n\" style=\"fill:none;stroke:#000000;stroke-linecap:round;\"/>\r\n    <path clip-path=\"url(#pcfcf957dbc)\" d=\"M 228.49007 115.48482 \r\nL 225.290675 112.360101 \r\nL 229.710087 111.675416 \r\nL 228.49007 115.48482 \r\nz\r\n\" style=\"stroke:#000000;stroke-linecap:round;\"/>\r\n   </g>\r\n   <g id=\"patch_6\">\r\n    <path clip-path=\"url(#pcfcf957dbc)\" d=\"M 310.946073 139.792501 \r\nQ 352.255996 154.703857 392.514299 169.235617 \r\n\" style=\"fill:none;stroke:#000000;stroke-linecap:round;\"/>\r\n    <path clip-path=\"url(#pcfcf957dbc)\" d=\"M 389.430948 165.996335 \r\nL 392.514299 169.235617 \r\nL 388.072863 169.758728 \r\nL 389.430948 165.996335 \r\nz\r\n\" style=\"stroke:#000000;stroke-linecap:round;\"/>\r\n   </g>\r\n   <g id=\"patch_7\">\r\n    <path clip-path=\"url(#pcfcf957dbc)\" d=\"M 215.98079 109.378473 \r\nQ 207.033378 125.043126 198.640488 139.736951 \r\n\" style=\"fill:none;stroke:#000000;stroke-linecap:round;\"/>\r\n    <path clip-path=\"url(#pcfcf957dbc)\" d=\"M 202.361074 137.255573 \r\nL 198.640488 139.736951 \r\nL 198.887737 135.271655 \r\nL 202.361074 137.255573 \r\nz\r\n\" style=\"stroke:#000000;stroke-linecap:round;\"/>\r\n   </g>\r\n   <g id=\"patch_8\">\r\n    <path clip-path=\"url(#pcfcf957dbc)\" d=\"M 215.98079 109.378473 \r\nQ 304.747155 139.572692 392.455046 169.406867 \r\n\" style=\"fill:none;stroke:#000000;stroke-linecap:round;\"/>\r\n    <path clip-path=\"url(#pcfcf957dbc)\" d=\"M 389.312199 166.225277 \r\nL 392.455046 169.406867 \r\nL 388.024066 170.01219 \r\nL 389.312199 166.225277 \r\nz\r\n\" style=\"stroke:#000000;stroke-linecap:round;\"/>\r\n   </g>\r\n   <g id=\"patch_9\">\r\n    <path clip-path=\"url(#pcfcf957dbc)\" d=\"M 215.98079 109.378473 \r\nQ 134.282231 72.564135 53.602997 36.209118 \r\n\" style=\"fill:none;stroke:#000000;stroke-linecap:round;\"/>\r\n    <path clip-path=\"url(#pcfcf957dbc)\" d=\"M 56.428191 39.675857 \r\nL 53.602997 36.209118 \r\nL 58.071505 36.029006 \r\nL 56.428191 39.675857 \r\nz\r\n\" style=\"stroke:#000000;stroke-linecap:round;\"/>\r\n   </g>\r\n   <g id=\"patch_10\">\r\n    <path clip-path=\"url(#pcfcf957dbc)\" d=\"M 193.791371 148.226527 \r\nQ 122.65789 92.869383 52.406743 38.198886 \r\n\" style=\"fill:none;stroke:#000000;stroke-linecap:round;\"/>\r\n    <path clip-path=\"url(#pcfcf957dbc)\" d=\"M 54.335172 42.233879 \r\nL 52.406743 38.198886 \r\nL 56.791795 39.077139 \r\nL 54.335172 42.233879 \r\nz\r\n\" style=\"stroke:#000000;stroke-linecap:round;\"/>\r\n   </g>\r\n   <g id=\"patch_11\">\r\n    <path clip-path=\"url(#pcfcf957dbc)\" d=\"M 193.791371 148.226527 \r\nQ 266.906335 203.029918 339.126678 257.162746 \r\n\" style=\"fill:none;stroke:#000000;stroke-linecap:round;\"/>\r\n    <path clip-path=\"url(#pcfcf957dbc)\" d=\"M 337.125528 253.163321 \r\nL 339.126678 257.162746 \r\nL 334.726448 256.364011 \r\nL 337.125528 253.163321 \r\nz\r\n\" style=\"stroke:#000000;stroke-linecap:round;\"/>\r\n   </g>\r\n   <g id=\"patch_12\">\r\n    <path clip-path=\"url(#pcfcf957dbc)\" d=\"M 268.846367 206.668806 \r\nQ 234.735145 180.107782 201.506069 154.233649 \r\n\" style=\"fill:none;stroke:#000000;stroke-linecap:round;\"/>\r\n    <path clip-path=\"url(#pcfcf957dbc)\" d=\"M 203.433381 158.269175 \r\nL 201.506069 154.233649 \r\nL 205.890876 155.113115 \r\nL 203.433381 158.269175 \r\nz\r\n\" style=\"stroke:#000000;stroke-linecap:round;\"/>\r\n   </g>\r\n   <g id=\"patch_13\">\r\n    <path clip-path=\"url(#pcfcf957dbc)\" d=\"M 268.846367 206.668806 \r\nQ 304.386308 232.313678 339.019605 257.304335 \r\n\" style=\"fill:none;stroke:#000000;stroke-linecap:round;\"/>\r\n    <path clip-path=\"url(#pcfcf957dbc)\" d=\"M 336.946193 253.341891 \r\nL 339.019605 257.304335 \r\nL 334.605602 256.585598 \r\nL 336.946193 253.341891 \r\nz\r\n\" style=\"stroke:#000000;stroke-linecap:round;\"/>\r\n   </g>\r\n   <g id=\"PathCollection_1\">\r\n    <defs>\r\n     <path d=\"M 0 8.660254 \r\nC 2.296726 8.660254 4.499694 7.747755 6.123724 6.123724 \r\nC 7.747755 4.499694 8.660254 2.296726 8.660254 0 \r\nC 8.660254 -2.296726 7.747755 -4.499694 6.123724 -6.123724 \r\nC 4.499694 -7.747755 2.296726 -8.660254 0 -8.660254 \r\nC -2.296726 -8.660254 -4.499694 -7.747755 -6.123724 -6.123724 \r\nC -7.747755 -4.499694 -8.660254 -2.296726 -8.660254 0 \r\nC -8.660254 2.296726 -7.747755 4.499694 -6.123724 6.123724 \r\nC -4.499694 7.747755 -2.296726 8.660254 0 8.660254 \r\nz\r\n\" id=\"m677c7eefd4\" style=\"stroke:#1f78b4;\"/>\r\n    </defs>\r\n    <g clip-path=\"url(#pcfcf957dbc)\">\r\n     <use style=\"fill:#1f78b4;stroke:#1f78b4;\" x=\"225.761098\" xlink:href=\"#m677c7eefd4\" y=\"99.460711\"/>\r\n     <use style=\"fill:#1f78b4;stroke:#1f78b4;\" x=\"304.753846\" xlink:href=\"#m677c7eefd4\" y=\"270.208264\"/>\r\n     <use style=\"fill:#1f78b4;stroke:#1f78b4;\" x=\"401.712397\" xlink:href=\"#m677c7eefd4\" y=\"172.55579\"/>\r\n     <use style=\"fill:#1f78b4;stroke:#1f78b4;\" x=\"44.687603\" xlink:href=\"#m677c7eefd4\" y=\"32.191736\"/>\r\n     <use style=\"fill:#1f78b4;stroke:#1f78b4;\" x=\"346.950574\" xlink:href=\"#m677c7eefd4\" y=\"263.027155\"/>\r\n     <use style=\"fill:#1f78b4;stroke:#1f78b4;\" x=\"310.946073\" xlink:href=\"#m677c7eefd4\" y=\"139.792501\"/>\r\n     <use style=\"fill:#1f78b4;stroke:#1f78b4;\" x=\"215.98079\" xlink:href=\"#m677c7eefd4\" y=\"109.378473\"/>\r\n     <use style=\"fill:#1f78b4;stroke:#1f78b4;\" x=\"193.791371\" xlink:href=\"#m677c7eefd4\" y=\"148.226527\"/>\r\n     <use style=\"fill:#1f78b4;stroke:#1f78b4;\" x=\"268.846367\" xlink:href=\"#m677c7eefd4\" y=\"206.668806\"/>\r\n    </g>\r\n   </g>\r\n   <g id=\"text_1\">\r\n    <g clip-path=\"url(#pcfcf957dbc)\">\r\n     <!-- 0 -->\r\n     <defs>\r\n      <path d=\"M 31.78125 66.40625 \r\nQ 24.171875 66.40625 20.328125 58.90625 \r\nQ 16.5 51.421875 16.5 36.375 \r\nQ 16.5 21.390625 20.328125 13.890625 \r\nQ 24.171875 6.390625 31.78125 6.390625 \r\nQ 39.453125 6.390625 43.28125 13.890625 \r\nQ 47.125 21.390625 47.125 36.375 \r\nQ 47.125 51.421875 43.28125 58.90625 \r\nQ 39.453125 66.40625 31.78125 66.40625 \r\nz\r\nM 31.78125 74.21875 \r\nQ 44.046875 74.21875 50.515625 64.515625 \r\nQ 56.984375 54.828125 56.984375 36.375 \r\nQ 56.984375 17.96875 50.515625 8.265625 \r\nQ 44.046875 -1.421875 31.78125 -1.421875 \r\nQ 19.53125 -1.421875 13.0625 8.265625 \r\nQ 6.59375 17.96875 6.59375 36.375 \r\nQ 6.59375 54.828125 13.0625 64.515625 \r\nQ 19.53125 74.21875 31.78125 74.21875 \r\nz\r\n\" id=\"DejaVuSans-48\"/>\r\n     </defs>\r\n     <g transform=\"translate(221.943598 102.771961)scale(0.12 -0.12)\">\r\n      <use xlink:href=\"#DejaVuSans-48\"/>\r\n     </g>\r\n    </g>\r\n   </g>\r\n   <g id=\"text_2\">\r\n    <g clip-path=\"url(#pcfcf957dbc)\">\r\n     <!-- 1 -->\r\n     <defs>\r\n      <path d=\"M 12.40625 8.296875 \r\nL 28.515625 8.296875 \r\nL 28.515625 63.921875 \r\nL 10.984375 60.40625 \r\nL 10.984375 69.390625 \r\nL 28.421875 72.90625 \r\nL 38.28125 72.90625 \r\nL 38.28125 8.296875 \r\nL 54.390625 8.296875 \r\nL 54.390625 0 \r\nL 12.40625 0 \r\nz\r\n\" id=\"DejaVuSans-49\"/>\r\n     </defs>\r\n     <g transform=\"translate(300.936346 273.519514)scale(0.12 -0.12)\">\r\n      <use xlink:href=\"#DejaVuSans-49\"/>\r\n     </g>\r\n    </g>\r\n   </g>\r\n   <g id=\"text_3\">\r\n    <g clip-path=\"url(#pcfcf957dbc)\">\r\n     <!-- 2 -->\r\n     <defs>\r\n      <path d=\"M 19.1875 8.296875 \r\nL 53.609375 8.296875 \r\nL 53.609375 0 \r\nL 7.328125 0 \r\nL 7.328125 8.296875 \r\nQ 12.9375 14.109375 22.625 23.890625 \r\nQ 32.328125 33.6875 34.8125 36.53125 \r\nQ 39.546875 41.84375 41.421875 45.53125 \r\nQ 43.3125 49.21875 43.3125 52.78125 \r\nQ 43.3125 58.59375 39.234375 62.25 \r\nQ 35.15625 65.921875 28.609375 65.921875 \r\nQ 23.96875 65.921875 18.8125 64.3125 \r\nQ 13.671875 62.703125 7.8125 59.421875 \r\nL 7.8125 69.390625 \r\nQ 13.765625 71.78125 18.9375 73 \r\nQ 24.125 74.21875 28.421875 74.21875 \r\nQ 39.75 74.21875 46.484375 68.546875 \r\nQ 53.21875 62.890625 53.21875 53.421875 \r\nQ 53.21875 48.921875 51.53125 44.890625 \r\nQ 49.859375 40.875 45.40625 35.40625 \r\nQ 44.1875 33.984375 37.640625 27.21875 \r\nQ 31.109375 20.453125 19.1875 8.296875 \r\nz\r\n\" id=\"DejaVuSans-50\"/>\r\n     </defs>\r\n     <g transform=\"translate(397.894897 175.86704)scale(0.12 -0.12)\">\r\n      <use xlink:href=\"#DejaVuSans-50\"/>\r\n     </g>\r\n    </g>\r\n   </g>\r\n   <g id=\"text_4\">\r\n    <g clip-path=\"url(#pcfcf957dbc)\">\r\n     <!-- 3 -->\r\n     <defs>\r\n      <path d=\"M 40.578125 39.3125 \r\nQ 47.65625 37.796875 51.625 33 \r\nQ 55.609375 28.21875 55.609375 21.1875 \r\nQ 55.609375 10.40625 48.1875 4.484375 \r\nQ 40.765625 -1.421875 27.09375 -1.421875 \r\nQ 22.515625 -1.421875 17.65625 -0.515625 \r\nQ 12.796875 0.390625 7.625 2.203125 \r\nL 7.625 11.71875 \r\nQ 11.71875 9.328125 16.59375 8.109375 \r\nQ 21.484375 6.890625 26.8125 6.890625 \r\nQ 36.078125 6.890625 40.9375 10.546875 \r\nQ 45.796875 14.203125 45.796875 21.1875 \r\nQ 45.796875 27.640625 41.28125 31.265625 \r\nQ 36.765625 34.90625 28.71875 34.90625 \r\nL 20.21875 34.90625 \r\nL 20.21875 43.015625 \r\nL 29.109375 43.015625 \r\nQ 36.375 43.015625 40.234375 45.921875 \r\nQ 44.09375 48.828125 44.09375 54.296875 \r\nQ 44.09375 59.90625 40.109375 62.90625 \r\nQ 36.140625 65.921875 28.71875 65.921875 \r\nQ 24.65625 65.921875 20.015625 65.03125 \r\nQ 15.375 64.15625 9.8125 62.3125 \r\nL 9.8125 71.09375 \r\nQ 15.4375 72.65625 20.34375 73.4375 \r\nQ 25.25 74.21875 29.59375 74.21875 \r\nQ 40.828125 74.21875 47.359375 69.109375 \r\nQ 53.90625 64.015625 53.90625 55.328125 \r\nQ 53.90625 49.265625 50.4375 45.09375 \r\nQ 46.96875 40.921875 40.578125 39.3125 \r\nz\r\n\" id=\"DejaVuSans-51\"/>\r\n     </defs>\r\n     <g transform=\"translate(40.870103 35.502986)scale(0.12 -0.12)\">\r\n      <use xlink:href=\"#DejaVuSans-51\"/>\r\n     </g>\r\n    </g>\r\n   </g>\r\n   <g id=\"text_5\">\r\n    <g clip-path=\"url(#pcfcf957dbc)\">\r\n     <!-- 4 -->\r\n     <defs>\r\n      <path d=\"M 37.796875 64.3125 \r\nL 12.890625 25.390625 \r\nL 37.796875 25.390625 \r\nz\r\nM 35.203125 72.90625 \r\nL 47.609375 72.90625 \r\nL 47.609375 25.390625 \r\nL 58.015625 25.390625 \r\nL 58.015625 17.1875 \r\nL 47.609375 17.1875 \r\nL 47.609375 0 \r\nL 37.796875 0 \r\nL 37.796875 17.1875 \r\nL 4.890625 17.1875 \r\nL 4.890625 26.703125 \r\nz\r\n\" id=\"DejaVuSans-52\"/>\r\n     </defs>\r\n     <g transform=\"translate(343.133074 266.338405)scale(0.12 -0.12)\">\r\n      <use xlink:href=\"#DejaVuSans-52\"/>\r\n     </g>\r\n    </g>\r\n   </g>\r\n   <g id=\"text_6\">\r\n    <g clip-path=\"url(#pcfcf957dbc)\">\r\n     <!-- 5 -->\r\n     <defs>\r\n      <path d=\"M 10.796875 72.90625 \r\nL 49.515625 72.90625 \r\nL 49.515625 64.59375 \r\nL 19.828125 64.59375 \r\nL 19.828125 46.734375 \r\nQ 21.96875 47.46875 24.109375 47.828125 \r\nQ 26.265625 48.1875 28.421875 48.1875 \r\nQ 40.625 48.1875 47.75 41.5 \r\nQ 54.890625 34.8125 54.890625 23.390625 \r\nQ 54.890625 11.625 47.5625 5.09375 \r\nQ 40.234375 -1.421875 26.90625 -1.421875 \r\nQ 22.3125 -1.421875 17.546875 -0.640625 \r\nQ 12.796875 0.140625 7.71875 1.703125 \r\nL 7.71875 11.625 \r\nQ 12.109375 9.234375 16.796875 8.0625 \r\nQ 21.484375 6.890625 26.703125 6.890625 \r\nQ 35.15625 6.890625 40.078125 11.328125 \r\nQ 45.015625 15.765625 45.015625 23.390625 \r\nQ 45.015625 31 40.078125 35.4375 \r\nQ 35.15625 39.890625 26.703125 39.890625 \r\nQ 22.75 39.890625 18.8125 39.015625 \r\nQ 14.890625 38.140625 10.796875 36.28125 \r\nz\r\n\" id=\"DejaVuSans-53\"/>\r\n     </defs>\r\n     <g transform=\"translate(307.128573 143.103751)scale(0.12 -0.12)\">\r\n      <use xlink:href=\"#DejaVuSans-53\"/>\r\n     </g>\r\n    </g>\r\n   </g>\r\n   <g id=\"text_7\">\r\n    <g clip-path=\"url(#pcfcf957dbc)\">\r\n     <!-- 6 -->\r\n     <defs>\r\n      <path d=\"M 33.015625 40.375 \r\nQ 26.375 40.375 22.484375 35.828125 \r\nQ 18.609375 31.296875 18.609375 23.390625 \r\nQ 18.609375 15.53125 22.484375 10.953125 \r\nQ 26.375 6.390625 33.015625 6.390625 \r\nQ 39.65625 6.390625 43.53125 10.953125 \r\nQ 47.40625 15.53125 47.40625 23.390625 \r\nQ 47.40625 31.296875 43.53125 35.828125 \r\nQ 39.65625 40.375 33.015625 40.375 \r\nz\r\nM 52.59375 71.296875 \r\nL 52.59375 62.3125 \r\nQ 48.875 64.0625 45.09375 64.984375 \r\nQ 41.3125 65.921875 37.59375 65.921875 \r\nQ 27.828125 65.921875 22.671875 59.328125 \r\nQ 17.53125 52.734375 16.796875 39.40625 \r\nQ 19.671875 43.65625 24.015625 45.921875 \r\nQ 28.375 48.1875 33.59375 48.1875 \r\nQ 44.578125 48.1875 50.953125 41.515625 \r\nQ 57.328125 34.859375 57.328125 23.390625 \r\nQ 57.328125 12.15625 50.6875 5.359375 \r\nQ 44.046875 -1.421875 33.015625 -1.421875 \r\nQ 20.359375 -1.421875 13.671875 8.265625 \r\nQ 6.984375 17.96875 6.984375 36.375 \r\nQ 6.984375 53.65625 15.1875 63.9375 \r\nQ 23.390625 74.21875 37.203125 74.21875 \r\nQ 40.921875 74.21875 44.703125 73.484375 \r\nQ 48.484375 72.75 52.59375 71.296875 \r\nz\r\n\" id=\"DejaVuSans-54\"/>\r\n     </defs>\r\n     <g transform=\"translate(212.16329 112.689723)scale(0.12 -0.12)\">\r\n      <use xlink:href=\"#DejaVuSans-54\"/>\r\n     </g>\r\n    </g>\r\n   </g>\r\n   <g id=\"text_8\">\r\n    <g clip-path=\"url(#pcfcf957dbc)\">\r\n     <!-- 7 -->\r\n     <defs>\r\n      <path d=\"M 8.203125 72.90625 \r\nL 55.078125 72.90625 \r\nL 55.078125 68.703125 \r\nL 28.609375 0 \r\nL 18.3125 0 \r\nL 43.21875 64.59375 \r\nL 8.203125 64.59375 \r\nz\r\n\" id=\"DejaVuSans-55\"/>\r\n     </defs>\r\n     <g transform=\"translate(189.973871 151.537777)scale(0.12 -0.12)\">\r\n      <use xlink:href=\"#DejaVuSans-55\"/>\r\n     </g>\r\n    </g>\r\n   </g>\r\n   <g id=\"text_9\">\r\n    <g clip-path=\"url(#pcfcf957dbc)\">\r\n     <!-- 8 -->\r\n     <defs>\r\n      <path d=\"M 31.78125 34.625 \r\nQ 24.75 34.625 20.71875 30.859375 \r\nQ 16.703125 27.09375 16.703125 20.515625 \r\nQ 16.703125 13.921875 20.71875 10.15625 \r\nQ 24.75 6.390625 31.78125 6.390625 \r\nQ 38.8125 6.390625 42.859375 10.171875 \r\nQ 46.921875 13.96875 46.921875 20.515625 \r\nQ 46.921875 27.09375 42.890625 30.859375 \r\nQ 38.875 34.625 31.78125 34.625 \r\nz\r\nM 21.921875 38.8125 \r\nQ 15.578125 40.375 12.03125 44.71875 \r\nQ 8.5 49.078125 8.5 55.328125 \r\nQ 8.5 64.0625 14.71875 69.140625 \r\nQ 20.953125 74.21875 31.78125 74.21875 \r\nQ 42.671875 74.21875 48.875 69.140625 \r\nQ 55.078125 64.0625 55.078125 55.328125 \r\nQ 55.078125 49.078125 51.53125 44.71875 \r\nQ 48 40.375 41.703125 38.8125 \r\nQ 48.828125 37.15625 52.796875 32.3125 \r\nQ 56.78125 27.484375 56.78125 20.515625 \r\nQ 56.78125 9.90625 50.3125 4.234375 \r\nQ 43.84375 -1.421875 31.78125 -1.421875 \r\nQ 19.734375 -1.421875 13.25 4.234375 \r\nQ 6.78125 9.90625 6.78125 20.515625 \r\nQ 6.78125 27.484375 10.78125 32.3125 \r\nQ 14.796875 37.15625 21.921875 38.8125 \r\nz\r\nM 18.3125 54.390625 \r\nQ 18.3125 48.734375 21.84375 45.5625 \r\nQ 25.390625 42.390625 31.78125 42.390625 \r\nQ 38.140625 42.390625 41.71875 45.5625 \r\nQ 45.3125 48.734375 45.3125 54.390625 \r\nQ 45.3125 60.0625 41.71875 63.234375 \r\nQ 38.140625 66.40625 31.78125 66.40625 \r\nQ 25.390625 66.40625 21.84375 63.234375 \r\nQ 18.3125 60.0625 18.3125 54.390625 \r\nz\r\n\" id=\"DejaVuSans-56\"/>\r\n     </defs>\r\n     <g transform=\"translate(265.028867 209.980056)scale(0.12 -0.12)\">\r\n      <use xlink:href=\"#DejaVuSans-56\"/>\r\n     </g>\r\n    </g>\r\n   </g>\r\n  </g>\r\n </g>\r\n <defs>\r\n  <clipPath id=\"pcfcf957dbc\">\r\n   <rect height=\"288\" width=\"432\" x=\"7.2\" y=\"7.2\"/>\r\n  </clipPath>\r\n </defs>\r\n</svg>\r\n",
      "image/png": "[encoded data removed]"
     },
     "metadata": {}
    }
   ],
   "source": [
    "homo_g = dgl.to_homo(g)\n",
    "nx.draw(homo_g.to_networkx(), with_labels=True)"
   ]
  },
  {
   "cell_type": "code",
   "execution_count": 14,
   "metadata": {},
   "outputs": [
    {
     "output_type": "execute_result",
     "data": {
      "text/plain": "{'_TYPE': tensor([0, 0, 1, 1, 1, 2, 2, 2, 2]), '_ID': tensor([0, 1, 0, 1, 2, 0, 1, 2, 3])}"
     },
     "metadata": {},
     "execution_count": 14
    }
   ],
   "source": [
    "homo_g.ndata"
   ]
  },
  {
   "cell_type": "code",
   "execution_count": 15,
   "metadata": {},
   "outputs": [
    {
     "output_type": "execute_result",
     "data": {
      "text/plain": "{'_TYPE': tensor([0, 0, 0, 1, 1, 1, 1, 1, 1, 2, 2, 2]), '_ID': tensor([0, 1, 2, 0, 1, 2, 3, 4, 5, 0, 1, 2])}"
     },
     "metadata": {},
     "execution_count": 15
    }
   ],
   "source": [
    "homo_g.edata"
   ]
  },
  {
   "cell_type": "code",
   "execution_count": 16,
   "metadata": {},
   "outputs": [
    {
     "output_type": "execute_result",
     "data": {
      "text/plain": "<bound method DGLHeteroGraph.to_networkx of Graph(num_nodes={'company': 2, 'game': 3, 'player': 4},\n      num_edges={('player', 'follows', 'player'): 3, ('player', 'plays', 'game'): 6, ('company', 'develops', 'game'): 3},\n      metagraph=[('company', 'game'), ('player', 'player'), ('player', 'game')])>"
     },
     "metadata": {},
     "execution_count": 16
    }
   ],
   "source": [
    "g.to_networkx"
   ]
  },
  {
   "cell_type": "code",
   "execution_count": 17,
   "metadata": {},
   "outputs": [
    {
     "output_type": "execute_result",
     "data": {
      "text/plain": "<bound method DGLHeteroGraph.adjacency_matrix of Graph(num_nodes={'company': 2, 'game': 3, 'player': 4},\n      num_edges={('player', 'follows', 'player'): 3, ('player', 'plays', 'game'): 6, ('company', 'develops', 'game'): 3},\n      metagraph=[('company', 'game'), ('player', 'player'), ('player', 'game')])>"
     },
     "metadata": {},
     "execution_count": 17
    }
   ],
   "source": [
    "g.adjacency_matrix"
   ]
  },
  {
   "cell_type": "code",
   "execution_count": 18,
   "metadata": {},
   "outputs": [
    {
     "output_type": "execute_result",
     "data": {
      "text/plain": "<bound method DGLHeteroGraph.incidence_matrix of Graph(num_nodes={'company': 2, 'game': 3, 'player': 4},\n      num_edges={('player', 'follows', 'player'): 3, ('player', 'plays', 'game'): 6, ('company', 'develops', 'game'): 3},\n      metagraph=[('company', 'game'), ('player', 'player'), ('player', 'game')])>"
     },
     "metadata": {},
     "execution_count": 18
    }
   ],
   "source": [
    "g.incidence_matrix"
   ]
  },
  {
   "cell_type": "code",
   "execution_count": 19,
   "metadata": {},
   "outputs": [
    {
     "output_type": "execute_result",
     "data": {
      "text/plain": "<networkx.classes.multidigraph.MultiDiGraph at 0x28842719dd8>"
     },
     "metadata": {},
     "execution_count": 19
    }
   ],
   "source": [
    "g.metagraph"
   ]
  },
  {
   "cell_type": "code",
   "execution_count": 20,
   "metadata": {},
   "outputs": [
    {
     "output_type": "execute_result",
     "data": {
      "text/plain": "False"
     },
     "metadata": {},
     "execution_count": 20
    }
   ],
   "source": [
    "g.is_multigraph"
   ]
  },
  {
   "cell_type": "code",
   "execution_count": 21,
   "metadata": {},
   "outputs": [
    {
     "output_type": "execute_result",
     "data": {
      "text/plain": "tensor([1, 2])"
     },
     "metadata": {},
     "execution_count": 21
    }
   ],
   "source": [
    "g.predecessors(v=1,etype='plays')"
   ]
  },
  {
   "cell_type": "code",
   "execution_count": 22,
   "metadata": {},
   "outputs": [
    {
     "output_type": "execute_result",
     "data": {
      "text/plain": "tensor([2])"
     },
     "metadata": {},
     "execution_count": 22
    }
   ],
   "source": [
    "g.successors(v=1, etype='develops')"
   ]
  }
 ],
 "metadata": {
  "language_info": {
   "codemirror_mode": {
    "name": "ipython",
    "version": 3
   },
   "file_extension": ".py",
   "mimetype": "text/x-python",
   "name": "python",
   "nbconvert_exporter": "python",
   "pygments_lexer": "ipython3",
   "version": "3.6.10-final"
  },
  "orig_nbformat": 2,
  "kernelspec": {
   "name": "python361064bitdglenvconda6fb52be239fa4d548e32a9efd4cf337f",
   "display_name": "Python 3.6.10 64-bit ('dglenv': conda)"
  }
 },
 "nbformat": 4,
 "nbformat_minor": 2
}